{
  "nbformat": 4,
  "nbformat_minor": 0,
  "metadata": {
    "colab": {
      "provenance": [],
      "include_colab_link": true
    },
    "kernelspec": {
      "name": "python3",
      "display_name": "Python 3"
    },
    "language_info": {
      "name": "python"
    }
  },
  "cells": [
    {
      "cell_type": "markdown",
      "metadata": {
        "id": "view-in-github",
        "colab_type": "text"
      },
      "source": [
        "<a href=\"https://colab.research.google.com/github/evs-11/Telecom-X_2_LATAM/blob/main/Telecom_X_2_LATAM_.ipynb\" target=\"_parent\"><img src=\"https://colab.research.google.com/assets/colab-badge.svg\" alt=\"Open In Colab\"/></a>"
      ]
    },
    {
      "cell_type": "markdown",
      "source": [
        "#**Telecom X – Parte 2: Predicción de Cancelación (Churn)**:"
      ],
      "metadata": {
        "id": "6mfMzIr7Uf14"
      }
    },
    {
      "cell_type": "markdown",
      "source": [
        "🎯 Misión\n",
        "\n",
        "Desarrollar modelos predictivos capaces de prever qué clientes tienen mayor probabilidad de cancelar sus servicios.\n",
        "\n",
        "La empresa quiere anticiparse al problema de la cancelación."
      ],
      "metadata": {
        "id": "gL1ZQw0gUw8n"
      }
    },
    {
      "cell_type": "code",
      "execution_count": null,
      "metadata": {
        "id": "T6VDWNawQms1"
      },
      "outputs": [],
      "source": []
    }
  ]
}